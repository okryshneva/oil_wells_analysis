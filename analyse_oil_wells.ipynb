{
 "cells": [
  {
   "cell_type": "markdown",
   "metadata": {},
   "source": [
    "# Описание проекта"
   ]
  },
  {
   "cell_type": "markdown",
   "metadata": {},
   "source": [
    "В добывающей компании необходимо решить, где бурить новую скважину.<br>\n",
    "Шаги для выбора локации следующие:\n",
    "1. В избранном регионе собирают характеристики для скважин: качество нефти и объём её запасов;\n",
    "2. Строят модель для предсказания объёма запасов в новых скважинах;\n",
    "3. Выбирают скважины с самыми высокими оценками значений;\n",
    "4. Определяют регион с максимальной суммарной прибылью отобранных скважин.\n",
    "\n",
    "Предоставлены пробы нефти в трёх регионах. Характеристики для каждой скважины в регионе уже известны. Необходимо построить модель для определения региона, где добыча принесёт наибольшую прибыль. Необходимо проанализировать возможную прибыль и риски техникой `Bootstrap`."
   ]
  },
  {
   "cell_type": "markdown",
   "metadata": {},
   "source": [
    "# Оглавление"
   ]
  },
  {
   "cell_type": "markdown",
   "metadata": {},
   "source": [
    "1. [Загрузка и подготовка данных](#1)\n",
    "2. [Обучение и проверка модели](#2)\n",
    "3. [Подготовка к расчёту прибыли](#3)\n",
    "4. [Расчёт прибыли и рисков](#4)"
   ]
  },
  {
   "cell_type": "markdown",
   "metadata": {},
   "source": [
    "#### Импорт библиотек"
   ]
  },
  {
   "cell_type": "code",
   "execution_count": 1,
   "metadata": {},
   "outputs": [],
   "source": [
    "import pandas as pd\n",
    "import numpy as np\n",
    "from numpy.random import RandomState\n",
    "import seaborn as sns\n",
    "import matplotlib.pyplot as plt\n",
    "from scipy import stats as st\n",
    "\n",
    "from IPython.display import display\n",
    "\n",
    "from sklearn.preprocessing import StandardScaler\n",
    "from sklearn.linear_model import LinearRegression\n",
    "from sklearn.model_selection import train_test_split\n",
    "from sklearn.metrics import mean_squared_error\n",
    "\n",
    "import warnings\n",
    "warnings.filterwarnings('ignore')"
   ]
  },
  {
   "cell_type": "markdown",
   "metadata": {},
   "source": [
    "# 1. <a id=1>Загрузка и подготовка данных</a>"
   ]
  },
  {
   "cell_type": "markdown",
   "metadata": {},
   "source": [
    "Выгрузим датасеты в переменные region_0, region_1 и region_2."
   ]
  },
  {
   "cell_type": "code",
   "execution_count": 2,
   "metadata": {},
   "outputs": [],
   "source": [
    "region_0 = pd.read_csv('geo_data_0.csv')\n",
    "region_1 = pd.read_csv('geo_data_1.csv')\n",
    "region_2 = pd.read_csv('geo_data_2.csv')"
   ]
  },
  {
   "cell_type": "markdown",
   "metadata": {},
   "source": [
    "`id` — уникальный идентификатор скважины;<br>\n",
    "`f0, f1, f2` — три признака точек;<br>\n",
    "`product` — объём запасов в скважине (тыс. баррелей).<br>"
   ]
  },
  {
   "cell_type": "markdown",
   "metadata": {},
   "source": [
    "Поместим все наши регионы в один список и посмотрим как они выглядят:"
   ]
  },
  {
   "cell_type": "code",
   "execution_count": 3,
   "metadata": {},
   "outputs": [],
   "source": [
    "regions = [region_0, region_1, region_2]"
   ]
  },
  {
   "cell_type": "code",
   "execution_count": 4,
   "metadata": {},
   "outputs": [
    {
     "name": "stdout",
     "output_type": "stream",
     "text": [
      "Регион 1\n"
     ]
    },
    {
     "data": {
      "text/html": [
       "<div>\n",
       "<style scoped>\n",
       "    .dataframe tbody tr th:only-of-type {\n",
       "        vertical-align: middle;\n",
       "    }\n",
       "\n",
       "    .dataframe tbody tr th {\n",
       "        vertical-align: top;\n",
       "    }\n",
       "\n",
       "    .dataframe thead th {\n",
       "        text-align: right;\n",
       "    }\n",
       "</style>\n",
       "<table border=\"1\" class=\"dataframe\">\n",
       "  <thead>\n",
       "    <tr style=\"text-align: right;\">\n",
       "      <th></th>\n",
       "      <th>id</th>\n",
       "      <th>f0</th>\n",
       "      <th>f1</th>\n",
       "      <th>f2</th>\n",
       "      <th>product</th>\n",
       "    </tr>\n",
       "  </thead>\n",
       "  <tbody>\n",
       "    <tr>\n",
       "      <th>0</th>\n",
       "      <td>txEyH</td>\n",
       "      <td>0.705745</td>\n",
       "      <td>-0.497823</td>\n",
       "      <td>1.221170</td>\n",
       "      <td>105.280062</td>\n",
       "    </tr>\n",
       "    <tr>\n",
       "      <th>1</th>\n",
       "      <td>2acmU</td>\n",
       "      <td>1.334711</td>\n",
       "      <td>-0.340164</td>\n",
       "      <td>4.365080</td>\n",
       "      <td>73.037750</td>\n",
       "    </tr>\n",
       "    <tr>\n",
       "      <th>2</th>\n",
       "      <td>409Wp</td>\n",
       "      <td>1.022732</td>\n",
       "      <td>0.151990</td>\n",
       "      <td>1.419926</td>\n",
       "      <td>85.265647</td>\n",
       "    </tr>\n",
       "    <tr>\n",
       "      <th>3</th>\n",
       "      <td>iJLyR</td>\n",
       "      <td>-0.032172</td>\n",
       "      <td>0.139033</td>\n",
       "      <td>2.978566</td>\n",
       "      <td>168.620776</td>\n",
       "    </tr>\n",
       "    <tr>\n",
       "      <th>4</th>\n",
       "      <td>Xdl7t</td>\n",
       "      <td>1.988431</td>\n",
       "      <td>0.155413</td>\n",
       "      <td>4.751769</td>\n",
       "      <td>154.036647</td>\n",
       "    </tr>\n",
       "  </tbody>\n",
       "</table>\n",
       "</div>"
      ],
      "text/plain": [
       "      id        f0        f1        f2     product\n",
       "0  txEyH  0.705745 -0.497823  1.221170  105.280062\n",
       "1  2acmU  1.334711 -0.340164  4.365080   73.037750\n",
       "2  409Wp  1.022732  0.151990  1.419926   85.265647\n",
       "3  iJLyR -0.032172  0.139033  2.978566  168.620776\n",
       "4  Xdl7t  1.988431  0.155413  4.751769  154.036647"
      ]
     },
     "metadata": {},
     "output_type": "display_data"
    },
    {
     "name": "stdout",
     "output_type": "stream",
     "text": [
      "--------------------------------------------- \n",
      "\n",
      "Регион 2\n"
     ]
    },
    {
     "data": {
      "text/html": [
       "<div>\n",
       "<style scoped>\n",
       "    .dataframe tbody tr th:only-of-type {\n",
       "        vertical-align: middle;\n",
       "    }\n",
       "\n",
       "    .dataframe tbody tr th {\n",
       "        vertical-align: top;\n",
       "    }\n",
       "\n",
       "    .dataframe thead th {\n",
       "        text-align: right;\n",
       "    }\n",
       "</style>\n",
       "<table border=\"1\" class=\"dataframe\">\n",
       "  <thead>\n",
       "    <tr style=\"text-align: right;\">\n",
       "      <th></th>\n",
       "      <th>id</th>\n",
       "      <th>f0</th>\n",
       "      <th>f1</th>\n",
       "      <th>f2</th>\n",
       "      <th>product</th>\n",
       "    </tr>\n",
       "  </thead>\n",
       "  <tbody>\n",
       "    <tr>\n",
       "      <th>0</th>\n",
       "      <td>kBEdx</td>\n",
       "      <td>-15.001348</td>\n",
       "      <td>-8.276000</td>\n",
       "      <td>-0.005876</td>\n",
       "      <td>3.179103</td>\n",
       "    </tr>\n",
       "    <tr>\n",
       "      <th>1</th>\n",
       "      <td>62mP7</td>\n",
       "      <td>14.272088</td>\n",
       "      <td>-3.475083</td>\n",
       "      <td>0.999183</td>\n",
       "      <td>26.953261</td>\n",
       "    </tr>\n",
       "    <tr>\n",
       "      <th>2</th>\n",
       "      <td>vyE1P</td>\n",
       "      <td>6.263187</td>\n",
       "      <td>-5.948386</td>\n",
       "      <td>5.001160</td>\n",
       "      <td>134.766305</td>\n",
       "    </tr>\n",
       "    <tr>\n",
       "      <th>3</th>\n",
       "      <td>KcrkZ</td>\n",
       "      <td>-13.081196</td>\n",
       "      <td>-11.506057</td>\n",
       "      <td>4.999415</td>\n",
       "      <td>137.945408</td>\n",
       "    </tr>\n",
       "    <tr>\n",
       "      <th>4</th>\n",
       "      <td>AHL4O</td>\n",
       "      <td>12.702195</td>\n",
       "      <td>-8.147433</td>\n",
       "      <td>5.004363</td>\n",
       "      <td>134.766305</td>\n",
       "    </tr>\n",
       "  </tbody>\n",
       "</table>\n",
       "</div>"
      ],
      "text/plain": [
       "      id         f0         f1        f2     product\n",
       "0  kBEdx -15.001348  -8.276000 -0.005876    3.179103\n",
       "1  62mP7  14.272088  -3.475083  0.999183   26.953261\n",
       "2  vyE1P   6.263187  -5.948386  5.001160  134.766305\n",
       "3  KcrkZ -13.081196 -11.506057  4.999415  137.945408\n",
       "4  AHL4O  12.702195  -8.147433  5.004363  134.766305"
      ]
     },
     "metadata": {},
     "output_type": "display_data"
    },
    {
     "name": "stdout",
     "output_type": "stream",
     "text": [
      "--------------------------------------------- \n",
      "\n",
      "Регион 3\n"
     ]
    },
    {
     "data": {
      "text/html": [
       "<div>\n",
       "<style scoped>\n",
       "    .dataframe tbody tr th:only-of-type {\n",
       "        vertical-align: middle;\n",
       "    }\n",
       "\n",
       "    .dataframe tbody tr th {\n",
       "        vertical-align: top;\n",
       "    }\n",
       "\n",
       "    .dataframe thead th {\n",
       "        text-align: right;\n",
       "    }\n",
       "</style>\n",
       "<table border=\"1\" class=\"dataframe\">\n",
       "  <thead>\n",
       "    <tr style=\"text-align: right;\">\n",
       "      <th></th>\n",
       "      <th>id</th>\n",
       "      <th>f0</th>\n",
       "      <th>f1</th>\n",
       "      <th>f2</th>\n",
       "      <th>product</th>\n",
       "    </tr>\n",
       "  </thead>\n",
       "  <tbody>\n",
       "    <tr>\n",
       "      <th>0</th>\n",
       "      <td>fwXo0</td>\n",
       "      <td>-1.146987</td>\n",
       "      <td>0.963328</td>\n",
       "      <td>-0.828965</td>\n",
       "      <td>27.758673</td>\n",
       "    </tr>\n",
       "    <tr>\n",
       "      <th>1</th>\n",
       "      <td>WJtFt</td>\n",
       "      <td>0.262778</td>\n",
       "      <td>0.269839</td>\n",
       "      <td>-2.530187</td>\n",
       "      <td>56.069697</td>\n",
       "    </tr>\n",
       "    <tr>\n",
       "      <th>2</th>\n",
       "      <td>ovLUW</td>\n",
       "      <td>0.194587</td>\n",
       "      <td>0.289035</td>\n",
       "      <td>-5.586433</td>\n",
       "      <td>62.871910</td>\n",
       "    </tr>\n",
       "    <tr>\n",
       "      <th>3</th>\n",
       "      <td>q6cA6</td>\n",
       "      <td>2.236060</td>\n",
       "      <td>-0.553760</td>\n",
       "      <td>0.930038</td>\n",
       "      <td>114.572842</td>\n",
       "    </tr>\n",
       "    <tr>\n",
       "      <th>4</th>\n",
       "      <td>WPMUX</td>\n",
       "      <td>-0.515993</td>\n",
       "      <td>1.716266</td>\n",
       "      <td>5.899011</td>\n",
       "      <td>149.600746</td>\n",
       "    </tr>\n",
       "  </tbody>\n",
       "</table>\n",
       "</div>"
      ],
      "text/plain": [
       "      id        f0        f1        f2     product\n",
       "0  fwXo0 -1.146987  0.963328 -0.828965   27.758673\n",
       "1  WJtFt  0.262778  0.269839 -2.530187   56.069697\n",
       "2  ovLUW  0.194587  0.289035 -5.586433   62.871910\n",
       "3  q6cA6  2.236060 -0.553760  0.930038  114.572842\n",
       "4  WPMUX -0.515993  1.716266  5.899011  149.600746"
      ]
     },
     "metadata": {},
     "output_type": "display_data"
    },
    {
     "name": "stdout",
     "output_type": "stream",
     "text": [
      "--------------------------------------------- \n",
      "\n"
     ]
    }
   ],
   "source": [
    "for i in range(len(regions)):\n",
    "    print(f'Регион {i+1}')\n",
    "    display(regions[i].head())\n",
    "    print('-'*45,'\\n')"
   ]
  },
  {
   "cell_type": "markdown",
   "metadata": {},
   "source": [
    "Оценим размер полученного датасета и заодно проверим на пропуски:"
   ]
  },
  {
   "cell_type": "code",
   "execution_count": 5,
   "metadata": {},
   "outputs": [
    {
     "name": "stdout",
     "output_type": "stream",
     "text": [
      "Регион 1\n",
      "\n",
      "<class 'pandas.core.frame.DataFrame'>\n",
      "RangeIndex: 100000 entries, 0 to 99999\n",
      "Data columns (total 5 columns):\n",
      " #   Column   Non-Null Count   Dtype  \n",
      "---  ------   --------------   -----  \n",
      " 0   id       100000 non-null  object \n",
      " 1   f0       100000 non-null  float64\n",
      " 2   f1       100000 non-null  float64\n",
      " 3   f2       100000 non-null  float64\n",
      " 4   product  100000 non-null  float64\n",
      "dtypes: float64(4), object(1)\n",
      "memory usage: 3.8+ MB\n",
      "--------------------------------------------- \n",
      "\n",
      "Регион 2\n",
      "\n",
      "<class 'pandas.core.frame.DataFrame'>\n",
      "RangeIndex: 100000 entries, 0 to 99999\n",
      "Data columns (total 5 columns):\n",
      " #   Column   Non-Null Count   Dtype  \n",
      "---  ------   --------------   -----  \n",
      " 0   id       100000 non-null  object \n",
      " 1   f0       100000 non-null  float64\n",
      " 2   f1       100000 non-null  float64\n",
      " 3   f2       100000 non-null  float64\n",
      " 4   product  100000 non-null  float64\n",
      "dtypes: float64(4), object(1)\n",
      "memory usage: 3.8+ MB\n",
      "--------------------------------------------- \n",
      "\n",
      "Регион 3\n",
      "\n",
      "<class 'pandas.core.frame.DataFrame'>\n",
      "RangeIndex: 100000 entries, 0 to 99999\n",
      "Data columns (total 5 columns):\n",
      " #   Column   Non-Null Count   Dtype  \n",
      "---  ------   --------------   -----  \n",
      " 0   id       100000 non-null  object \n",
      " 1   f0       100000 non-null  float64\n",
      " 2   f1       100000 non-null  float64\n",
      " 3   f2       100000 non-null  float64\n",
      " 4   product  100000 non-null  float64\n",
      "dtypes: float64(4), object(1)\n",
      "memory usage: 3.8+ MB\n",
      "--------------------------------------------- \n",
      "\n"
     ]
    }
   ],
   "source": [
    "for i in range(len(regions)):\n",
    "    print(f'Регион {i+1}\\n')\n",
    "    regions[i].info()\n",
    "    print('-'*45,'\\n')"
   ]
  },
  {
   "cell_type": "markdown",
   "metadata": {},
   "source": [
    "Проверим на дубликаты. В пределах одного региона не может быть скважины с двумя данными об объёмах скважин, а если даже и одинаковые - зачем нам полные дубли строк? Предположим, это могло случиться в случае, если замеры делали в разное время (например, в момент начала бурения и через некоторе время после, для расчёта остаточного объёма нефти в скважине). Удалим дубликаты, имеющие больший запас нефти."
   ]
  },
  {
   "cell_type": "code",
   "execution_count": 6,
   "metadata": {},
   "outputs": [],
   "source": [
    "def drop_duplicated_id(data):\n",
    "    \"\"\"Функция удаляет дублируемую скважину с наибольшим значением столбца 'product'\"\"\"\n",
    "    original = data.shape\n",
    "    print((f'Изначальный размер датасета {original}'))\n",
    "    data = data.sort_values(by='product', ascending=False).drop_duplicates(subset='id', keep='last')\n",
    "    print(f\"Удалено {original[0]-data.shape[0]} дублированных значений, с наибольшим запасом нефти. Новый размер: {data.shape}\\n\")\n",
    "    return data.reset_index(drop=True)"
   ]
  },
  {
   "cell_type": "code",
   "execution_count": 7,
   "metadata": {},
   "outputs": [
    {
     "name": "stdout",
     "output_type": "stream",
     "text": [
      "Изначальный размер датасета (100000, 5)\n",
      "Удалено 10 дублированных значений, с наибольшим запасом нефти. Новый размер: (99990, 5)\n",
      "\n",
      "Изначальный размер датасета (100000, 5)\n",
      "Удалено 4 дублированных значений, с наибольшим запасом нефти. Новый размер: (99996, 5)\n",
      "\n",
      "Изначальный размер датасета (100000, 5)\n",
      "Удалено 4 дублированных значений, с наибольшим запасом нефти. Новый размер: (99996, 5)\n",
      "\n"
     ]
    }
   ],
   "source": [
    "region_0 = drop_duplicated_id(region_0)\n",
    "region_1 = drop_duplicated_id(region_1)\n",
    "region_2 = drop_duplicated_id(region_2)"
   ]
  },
  {
   "cell_type": "markdown",
   "metadata": {},
   "source": [
    "Также для того, чтобы уникальные идентификаторы скважин в столбце `id` не мешали обучению модели сделаем их индексами."
   ]
  },
  {
   "cell_type": "code",
   "execution_count": 8,
   "metadata": {},
   "outputs": [],
   "source": [
    "region_0.index = region_0['id'].drop(columns=['id'])\n",
    "region_0.drop(columns=['id'], inplace=True)"
   ]
  },
  {
   "cell_type": "code",
   "execution_count": 9,
   "metadata": {},
   "outputs": [],
   "source": [
    "region_1.index = region_1['id'].drop(columns=['id'])\n",
    "region_1.drop(columns=['id'], inplace=True)"
   ]
  },
  {
   "cell_type": "code",
   "execution_count": 10,
   "metadata": {},
   "outputs": [],
   "source": [
    "region_2.index = region_2['id'].drop(columns=['id'])\n",
    "region_2.drop(columns=['id'], inplace=True)"
   ]
  },
  {
   "cell_type": "markdown",
   "metadata": {},
   "source": [
    "Теперь приготовим данные к обучению модели. Выделим признаки `f0`, `f1`, `f2` в `features` и ключевой признак `product` в `target`, присваивая нумерацию согласно нумерации регионов."
   ]
  },
  {
   "cell_type": "code",
   "execution_count": 11,
   "metadata": {},
   "outputs": [],
   "source": [
    "r = 42\n",
    "features_names = ['f0','f1','f2']\n",
    "target_name = 'product'"
   ]
  },
  {
   "cell_type": "code",
   "execution_count": 12,
   "metadata": {},
   "outputs": [],
   "source": [
    "def features_target(data):\n",
    "    features_train, features_valid, target_train, target_valid = train_test_split(data[features_names],\n",
    "                                                                                  data[target_name],\n",
    "                                                                                  random_state=r,\n",
    "                                                                                  test_size=.25)\n",
    "    return features_train, features_valid, target_train, target_valid"
   ]
  },
  {
   "cell_type": "code",
   "execution_count": 13,
   "metadata": {},
   "outputs": [],
   "source": [
    "features_train_0, features_valid_0, target_train_0, target_valid_0 = features_target(region_0)"
   ]
  },
  {
   "cell_type": "code",
   "execution_count": 14,
   "metadata": {},
   "outputs": [],
   "source": [
    "features_train_1, features_valid_1, target_train_1, target_valid_1 = features_target(region_1)"
   ]
  },
  {
   "cell_type": "code",
   "execution_count": 15,
   "metadata": {},
   "outputs": [],
   "source": [
    "features_train_2, features_valid_2, target_train_2, target_valid_2 = features_target(region_2)"
   ]
  },
  {
   "cell_type": "markdown",
   "metadata": {},
   "source": [
    "Для анализа корреляций между `features` и `product` объединим обратно по выборкам в датасеты:"
   ]
  },
  {
   "cell_type": "code",
   "execution_count": 16,
   "metadata": {},
   "outputs": [],
   "source": [
    "region_corr_0 = features_valid_0.join(target_valid_0)\n",
    "region_corr_1 = features_valid_1.join(target_valid_1)\n",
    "region_corr_2 = features_valid_2.join(target_valid_2)"
   ]
  },
  {
   "cell_type": "markdown",
   "metadata": {},
   "source": [
    "Машстабируем признаки"
   ]
  },
  {
   "cell_type": "code",
   "execution_count": 17,
   "metadata": {},
   "outputs": [],
   "source": [
    "scaler = StandardScaler()"
   ]
  },
  {
   "cell_type": "code",
   "execution_count": 18,
   "metadata": {},
   "outputs": [],
   "source": [
    "def scaled_features(features_train, features_valid):\n",
    "    \"\"\"Функция масштабирования количественных признаков\"\"\"\n",
    "    scaler.fit(features_train)\n",
    "    features_train.loc[:,:] = scaler.transform(features_train)\n",
    "    features_valid.loc[:,:] = scaler.transform(features_valid)\n",
    "    return features_train, features_valid"
   ]
  },
  {
   "cell_type": "code",
   "execution_count": 19,
   "metadata": {},
   "outputs": [],
   "source": [
    "features_train_0, features_valid_0 = scaled_features(features_train_0, features_valid_0)\n",
    "features_train_1, features_valid_1 = scaled_features(features_train_1, features_valid_1)\n",
    "features_train_2, features_valid_2 = scaled_features(features_train_2, features_valid_2)"
   ]
  },
  {
   "cell_type": "markdown",
   "metadata": {},
   "source": [
    "# 2. <a id=2>Обучение и проверка модели</a>"
   ]
  },
  {
   "cell_type": "markdown",
   "metadata": {},
   "source": [
    "Прежде чем обучать модель, проверим, подойдёт ли одна обученная модель (например на объединённых признаках) для всех регионов, или же для каждого региона желательно строить отдельную свою модель. Рассмотрим это на графиках:"
   ]
  },
  {
   "cell_type": "code",
   "execution_count": 20,
   "metadata": {},
   "outputs": [
    {
     "data": {
      "text/plain": [
       "<function matplotlib.pyplot.show(*args, **kw)>"
      ]
     },
     "execution_count": 20,
     "metadata": {},
     "output_type": "execute_result"
    },
    {
     "data": {
      "image/png": "[encoded data removed]",
      "text/plain": [
       "<Figure size 1152x432 with 1 Axes>"
      ]
     },
     "metadata": {
      "needs_background": "light"
     },
     "output_type": "display_data"
    }
   ],
   "source": [
    "f, ax = plt.subplots(figsize=(16, 6))\n",
    "sns.distplot(region_0['product'], ax=ax, label='Регион 0', kde=False)\n",
    "sns.distplot(region_1['product'], ax=ax, label='Регион 1', kde=False)\n",
    "sns.distplot(region_2['product'], ax=ax, label='Регион 2', kde=False)\n",
    "ax.set(xlabel='Объёмы запасов нефти',\n",
    "       ylabel='Количество вышек')\n",
    "ax.grid(True)\n",
    "ax.legend(fontsize='x-large')\n",
    "plt.show"
   ]
  },
  {
   "cell_type": "markdown",
   "metadata": {},
   "source": [
    "К сожалению, не всё так прекрасно как казалось бы. Второй регион (`region_1`) не стремится к нормальному. Если к 1 и 3 ещё можно было бы допустить применение одной модели, то к третьему нужна своя собственная."
   ]
  },
  {
   "cell_type": "code",
   "execution_count": 21,
   "metadata": {},
   "outputs": [
    {
     "data": {
      "image/png": "[encoded data removed]",
      "text/plain": [
       "<Figure size 1152x288 with 3 Axes>"
      ]
     },
     "metadata": {
      "needs_background": "light"
     },
     "output_type": "display_data"
    }
   ],
   "source": [
    "f, ax = plt.subplots(1, 3, figsize=(16,4))\n",
    "for feat in features_names:\n",
    "    sns.distplot(region_0[feat], ax=ax[features_names.index(feat)], label='Регион 0', kde=False)\n",
    "    sns.distplot(region_1[feat], ax=ax[features_names.index(feat)], label='Регион 1', kde=False)\n",
    "    sns.distplot(region_2[feat], ax=ax[features_names.index(feat)], label='Регион 2', kde=False)\n",
    "    ax[0].set(ylabel='Количество вышек')\n",
    "    ax[features_names.index(feat)].grid(True)\n",
    "    ax[features_names.index(feat)].set(xlabel='Признак точек '+feat)\n",
    "    ax[features_names.index(feat)].legend(fontsize='small')\n",
    "plt.show()"
   ]
  },
  {
   "cell_type": "markdown",
   "metadata": {},
   "source": [
    "Как мы увидели, ни точки признаков, ни объёмы нефти трёх регионов нельзя приравнять и создать одну модель для всех. Распределения как признаков, так и объёмов нести слишком разнятся для этих регионов."
   ]
  },
  {
   "cell_type": "markdown",
   "metadata": {},
   "source": [
    "Обучим модель и проверим на валидационной выборке:"
   ]
  },
  {
   "cell_type": "code",
   "execution_count": 22,
   "metadata": {},
   "outputs": [],
   "source": [
    "model = LinearRegression()"
   ]
  },
  {
   "cell_type": "code",
   "execution_count": 23,
   "metadata": {},
   "outputs": [],
   "source": [
    "def model_region(features_train, features_valid, target_train, target_valid):\n",
    "    \"\"\"Предскзание на валидационной выборке и вывод RMSE\"\"\"\n",
    "    model.fit(features_train, target_train)\n",
    "    predict = model.predict(features_valid)\n",
    "    print(f'Средний запас фактического сырья: {round(target_valid.mean(),6)}')\n",
    "    print(f'Средний запас предсказанного сырья: {round(predict.mean(),6)}')\n",
    "    print(f'RMSE = {mean_squared_error(predict, target_valid)**0.5}')\n",
    "    return predict"
   ]
  },
  {
   "cell_type": "markdown",
   "metadata": {},
   "source": [
    "Для первого региона:"
   ]
  },
  {
   "cell_type": "code",
   "execution_count": 24,
   "metadata": {
    "scrolled": true
   },
   "outputs": [
    {
     "name": "stdout",
     "output_type": "stream",
     "text": [
      "Средний запас фактического сырья: 92.828544\n",
      "Средний запас предсказанного сырья: 92.465985\n",
      "RMSE = 37.60456458057802\n"
     ]
    }
   ],
   "source": [
    "predictions_valid_0 = model_region(features_train_0, features_valid_0, target_train_0, target_valid_0)"
   ]
  },
  {
   "cell_type": "markdown",
   "metadata": {},
   "source": [
    "Для второго региона:"
   ]
  },
  {
   "cell_type": "code",
   "execution_count": 25,
   "metadata": {},
   "outputs": [
    {
     "name": "stdout",
     "output_type": "stream",
     "text": [
      "Средний запас фактического сырья: 69.11348\n",
      "Средний запас предсказанного сырья: 69.113093\n",
      "RMSE = 0.8859296808138284\n"
     ]
    }
   ],
   "source": [
    "predictions_valid_1 = model_region(features_train_1, features_valid_1, target_train_1, target_valid_1)"
   ]
  },
  {
   "cell_type": "markdown",
   "metadata": {},
   "source": [
    "Для третьего региона:"
   ]
  },
  {
   "cell_type": "code",
   "execution_count": 26,
   "metadata": {},
   "outputs": [
    {
     "name": "stdout",
     "output_type": "stream",
     "text": [
      "Средний запас фактического сырья: 95.277765\n",
      "Средний запас предсказанного сырья: 94.934521\n",
      "RMSE = 39.92452149464318\n"
     ]
    }
   ],
   "source": [
    "predictions_valid_2 = model_region(features_train_2, features_valid_2, target_train_2, target_valid_2)"
   ]
  },
  {
   "cell_type": "markdown",
   "metadata": {},
   "source": [
    "Как видно, наиболее низкая среднеквадратическая ошибка RMSE во втором регионе, а значит там предсказания более точные. Скорее это всего зависит что скважины сгруппировались по объёмам нефти (как видно на графике ранее), а в первом и третьем регионах распределения более нормальны."
   ]
  },
  {
   "cell_type": "markdown",
   "metadata": {},
   "source": [
    "Посмотрим корреляции между `features` и `target` для каждого региона:"
   ]
  },
  {
   "cell_type": "code",
   "execution_count": 27,
   "metadata": {},
   "outputs": [
    {
     "name": "stdout",
     "output_type": "stream",
     "text": [
      "Region_0\n"
     ]
    },
    {
     "data": {
      "text/plain": [
       "<Figure size 576x576 with 0 Axes>"
      ]
     },
     "metadata": {},
     "output_type": "display_data"
    },
    {
     "data": {
      "image/png": "[encoded data removed]",
      "text/plain": [
       "<Figure size 720x720 with 20 Axes>"
      ]
     },
     "metadata": {
      "needs_background": "light"
     },
     "output_type": "display_data"
    }
   ],
   "source": [
    "plt.figure(figsize=(8, 8))\n",
    "print('Region_0')\n",
    "sns.pairplot(region_corr_0, kind='scatter', plot_kws=dict(marker='+', linewidth=1))\n",
    "plt.show()"
   ]
  },
  {
   "cell_type": "code",
   "execution_count": 28,
   "metadata": {},
   "outputs": [
    {
     "name": "stdout",
     "output_type": "stream",
     "text": [
      "Region_1\n"
     ]
    },
    {
     "data": {
      "text/plain": [
       "<Figure size 576x576 with 0 Axes>"
      ]
     },
     "metadata": {},
     "output_type": "display_data"
    },
    {
     "data": {
      "image/png": "[encoded data removed]",
      "text/plain": [
       "<Figure size 720x720 with 20 Axes>"
      ]
     },
     "metadata": {
      "needs_background": "light"
     },
     "output_type": "display_data"
    }
   ],
   "source": [
    "plt.figure(figsize=(8, 8))\n",
    "print('Region_1')\n",
    "sns.pairplot(region_corr_1, kind='scatter', plot_kws=dict(marker='+', linewidth=1))\n",
    "plt.show()"
   ]
  },
  {
   "cell_type": "code",
   "execution_count": 29,
   "metadata": {},
   "outputs": [
    {
     "name": "stdout",
     "output_type": "stream",
     "text": [
      "Region_2\n"
     ]
    },
    {
     "data": {
      "text/plain": [
       "<Figure size 576x576 with 0 Axes>"
      ]
     },
     "metadata": {},
     "output_type": "display_data"
    },
    {
     "data": {
      "image/png": "[encoded data removed]",
      "text/plain": [
       "<Figure size 720x720 with 20 Axes>"
      ]
     },
     "metadata": {
      "needs_background": "light"
     },
     "output_type": "display_data"
    }
   ],
   "source": [
    "plt.figure(figsize=(8, 8))\n",
    "print('Region_2')\n",
    "sns.pairplot(region_corr_2, kind='scatter', plot_kws=dict(marker='+', linewidth=1))\n",
    "plt.show()"
   ]
  },
  {
   "cell_type": "markdown",
   "metadata": {},
   "source": [
    "На графиках для `Region_1` отчётливо просматривается очень сильная зависимость между точкой признака `f2` и запасами нефти `product`. Посмотрим на матрицу корреляций для этого региона:"
   ]
  },
  {
   "cell_type": "code",
   "execution_count": 30,
   "metadata": {},
   "outputs": [
    {
     "data": {
      "text/html": [
       "<div>\n",
       "<style scoped>\n",
       "    .dataframe tbody tr th:only-of-type {\n",
       "        vertical-align: middle;\n",
       "    }\n",
       "\n",
       "    .dataframe tbody tr th {\n",
       "        vertical-align: top;\n",
       "    }\n",
       "\n",
       "    .dataframe thead th {\n",
       "        text-align: right;\n",
       "    }\n",
       "</style>\n",
       "<table border=\"1\" class=\"dataframe\">\n",
       "  <thead>\n",
       "    <tr style=\"text-align: right;\">\n",
       "      <th></th>\n",
       "      <th>f0</th>\n",
       "      <th>f1</th>\n",
       "      <th>f2</th>\n",
       "      <th>product</th>\n",
       "    </tr>\n",
       "  </thead>\n",
       "  <tbody>\n",
       "    <tr>\n",
       "      <th>f0</th>\n",
       "      <td>1.000000</td>\n",
       "      <td>0.177303</td>\n",
       "      <td>-0.001157</td>\n",
       "      <td>-0.030072</td>\n",
       "    </tr>\n",
       "    <tr>\n",
       "      <th>f1</th>\n",
       "      <td>0.177303</td>\n",
       "      <td>1.000000</td>\n",
       "      <td>-0.001266</td>\n",
       "      <td>-0.008660</td>\n",
       "    </tr>\n",
       "    <tr>\n",
       "      <th>f2</th>\n",
       "      <td>-0.001157</td>\n",
       "      <td>-0.001266</td>\n",
       "      <td>1.000000</td>\n",
       "      <td>0.999391</td>\n",
       "    </tr>\n",
       "    <tr>\n",
       "      <th>product</th>\n",
       "      <td>-0.030072</td>\n",
       "      <td>-0.008660</td>\n",
       "      <td>0.999391</td>\n",
       "      <td>1.000000</td>\n",
       "    </tr>\n",
       "  </tbody>\n",
       "</table>\n",
       "</div>"
      ],
      "text/plain": [
       "               f0        f1        f2   product\n",
       "f0       1.000000  0.177303 -0.001157 -0.030072\n",
       "f1       0.177303  1.000000 -0.001266 -0.008660\n",
       "f2      -0.001157 -0.001266  1.000000  0.999391\n",
       "product -0.030072 -0.008660  0.999391  1.000000"
      ]
     },
     "execution_count": 30,
     "metadata": {},
     "output_type": "execute_result"
    }
   ],
   "source": [
    "region_corr_1.corr()"
   ]
  },
  {
   "cell_type": "markdown",
   "metadata": {},
   "source": [
    "Коэффициент Пирсона для `f2` и `product` практически равен 1. Эта сильная зависимость и помогает нашей модели лучше всего предсказывать значения запасов нефти. Возможно, произошла утечка целевого признака."
   ]
  },
  {
   "cell_type": "markdown",
   "metadata": {},
   "source": [
    "Объединим в датафрейм наши значения `product` и `predictions` для удобного расчёта прибыли и показателей в будущем."
   ]
  },
  {
   "cell_type": "code",
   "execution_count": 31,
   "metadata": {},
   "outputs": [],
   "source": [
    "region_valid_0 = pd.DataFrame(data=target_valid_0)\n",
    "region_valid_0['predictions'] = predictions_valid_0\n",
    "\n",
    "region_valid_1 = pd.DataFrame(data=target_valid_1)\n",
    "region_valid_1['predictions'] = predictions_valid_1\n",
    "\n",
    "region_valid_2 = pd.DataFrame(data=target_valid_2)\n",
    "region_valid_2['predictions'] = predictions_valid_2"
   ]
  },
  {
   "cell_type": "markdown",
   "metadata": {},
   "source": [
    "Получили мы такие датафреймы, с которыми удобно будет работать в дальнейшем при подсчёте прибыли и рисков."
   ]
  },
  {
   "cell_type": "code",
   "execution_count": 32,
   "metadata": {},
   "outputs": [
    {
     "data": {
      "text/html": [
       "<div>\n",
       "<style scoped>\n",
       "    .dataframe tbody tr th:only-of-type {\n",
       "        vertical-align: middle;\n",
       "    }\n",
       "\n",
       "    .dataframe tbody tr th {\n",
       "        vertical-align: top;\n",
       "    }\n",
       "\n",
       "    .dataframe thead th {\n",
       "        text-align: right;\n",
       "    }\n",
       "</style>\n",
       "<table border=\"1\" class=\"dataframe\">\n",
       "  <thead>\n",
       "    <tr style=\"text-align: right;\">\n",
       "      <th></th>\n",
       "      <th>product</th>\n",
       "      <th>predictions</th>\n",
       "    </tr>\n",
       "    <tr>\n",
       "      <th>id</th>\n",
       "      <th></th>\n",
       "      <th></th>\n",
       "    </tr>\n",
       "  </thead>\n",
       "  <tbody>\n",
       "    <tr>\n",
       "      <th>a3TVU</th>\n",
       "      <td>114.815156</td>\n",
       "      <td>91.979552</td>\n",
       "    </tr>\n",
       "    <tr>\n",
       "      <th>e1ja6</th>\n",
       "      <td>131.361049</td>\n",
       "      <td>109.018016</td>\n",
       "    </tr>\n",
       "    <tr>\n",
       "      <th>2kFbA</th>\n",
       "      <td>135.759406</td>\n",
       "      <td>81.549276</td>\n",
       "    </tr>\n",
       "    <tr>\n",
       "      <th>on7PE</th>\n",
       "      <td>153.136487</td>\n",
       "      <td>117.942297</td>\n",
       "    </tr>\n",
       "    <tr>\n",
       "      <th>Sal8X</th>\n",
       "      <td>157.569924</td>\n",
       "      <td>76.791026</td>\n",
       "    </tr>\n",
       "  </tbody>\n",
       "</table>\n",
       "</div>"
      ],
      "text/plain": [
       "          product  predictions\n",
       "id                            \n",
       "a3TVU  114.815156    91.979552\n",
       "e1ja6  131.361049   109.018016\n",
       "2kFbA  135.759406    81.549276\n",
       "on7PE  153.136487   117.942297\n",
       "Sal8X  157.569924    76.791026"
      ]
     },
     "metadata": {},
     "output_type": "display_data"
    },
    {
     "data": {
      "text/html": [
       "<div>\n",
       "<style scoped>\n",
       "    .dataframe tbody tr th:only-of-type {\n",
       "        vertical-align: middle;\n",
       "    }\n",
       "\n",
       "    .dataframe tbody tr th {\n",
       "        vertical-align: top;\n",
       "    }\n",
       "\n",
       "    .dataframe thead th {\n",
       "        text-align: right;\n",
       "    }\n",
       "</style>\n",
       "<table border=\"1\" class=\"dataframe\">\n",
       "  <thead>\n",
       "    <tr style=\"text-align: right;\">\n",
       "      <th></th>\n",
       "      <th>product</th>\n",
       "      <th>predictions</th>\n",
       "    </tr>\n",
       "    <tr>\n",
       "      <th>id</th>\n",
       "      <th></th>\n",
       "      <th></th>\n",
       "    </tr>\n",
       "  </thead>\n",
       "  <tbody>\n",
       "    <tr>\n",
       "      <th>J4UIq</th>\n",
       "      <td>84.038886</td>\n",
       "      <td>83.188842</td>\n",
       "    </tr>\n",
       "    <tr>\n",
       "      <th>xM86z</th>\n",
       "      <td>110.992147</td>\n",
       "      <td>111.149996</td>\n",
       "    </tr>\n",
       "    <tr>\n",
       "      <th>I6V0V</th>\n",
       "      <td>80.859783</td>\n",
       "      <td>81.467127</td>\n",
       "    </tr>\n",
       "    <tr>\n",
       "      <th>TWCDD</th>\n",
       "      <td>134.766305</td>\n",
       "      <td>136.690324</td>\n",
       "    </tr>\n",
       "    <tr>\n",
       "      <th>VrAQY</th>\n",
       "      <td>137.945408</td>\n",
       "      <td>137.256460</td>\n",
       "    </tr>\n",
       "  </tbody>\n",
       "</table>\n",
       "</div>"
      ],
      "text/plain": [
       "          product  predictions\n",
       "id                            \n",
       "J4UIq   84.038886    83.188842\n",
       "xM86z  110.992147   111.149996\n",
       "I6V0V   80.859783    81.467127\n",
       "TWCDD  134.766305   136.690324\n",
       "VrAQY  137.945408   137.256460"
      ]
     },
     "metadata": {},
     "output_type": "display_data"
    },
    {
     "data": {
      "text/html": [
       "<div>\n",
       "<style scoped>\n",
       "    .dataframe tbody tr th:only-of-type {\n",
       "        vertical-align: middle;\n",
       "    }\n",
       "\n",
       "    .dataframe tbody tr th {\n",
       "        vertical-align: top;\n",
       "    }\n",
       "\n",
       "    .dataframe thead th {\n",
       "        text-align: right;\n",
       "    }\n",
       "</style>\n",
       "<table border=\"1\" class=\"dataframe\">\n",
       "  <thead>\n",
       "    <tr style=\"text-align: right;\">\n",
       "      <th></th>\n",
       "      <th>product</th>\n",
       "      <th>predictions</th>\n",
       "    </tr>\n",
       "    <tr>\n",
       "      <th>id</th>\n",
       "      <th></th>\n",
       "      <th></th>\n",
       "    </tr>\n",
       "  </thead>\n",
       "  <tbody>\n",
       "    <tr>\n",
       "      <th>kw8c8</th>\n",
       "      <td>117.460257</td>\n",
       "      <td>92.243803</td>\n",
       "    </tr>\n",
       "    <tr>\n",
       "      <th>XzqgN</th>\n",
       "      <td>131.101287</td>\n",
       "      <td>108.492564</td>\n",
       "    </tr>\n",
       "    <tr>\n",
       "      <th>dqur3</th>\n",
       "      <td>105.544895</td>\n",
       "      <td>90.253867</td>\n",
       "    </tr>\n",
       "    <tr>\n",
       "      <th>VTnsP</th>\n",
       "      <td>155.920059</td>\n",
       "      <td>110.392329</td>\n",
       "    </tr>\n",
       "    <tr>\n",
       "      <th>aLfvf</th>\n",
       "      <td>160.511957</td>\n",
       "      <td>119.204380</td>\n",
       "    </tr>\n",
       "  </tbody>\n",
       "</table>\n",
       "</div>"
      ],
      "text/plain": [
       "          product  predictions\n",
       "id                            \n",
       "kw8c8  117.460257    92.243803\n",
       "XzqgN  131.101287   108.492564\n",
       "dqur3  105.544895    90.253867\n",
       "VTnsP  155.920059   110.392329\n",
       "aLfvf  160.511957   119.204380"
      ]
     },
     "metadata": {},
     "output_type": "display_data"
    }
   ],
   "source": [
    "display(region_valid_0.head(), region_valid_1.head(), region_valid_2.head())"
   ]
  },
  {
   "cell_type": "markdown",
   "metadata": {},
   "source": [
    "#### Вывод\n",
    "Самый низкий RMSE мы получили для `Region_1`, это значит что для данного региона предсказания будут более точные для остальных месторождений этого региона, для остальных двух регионов RMSE составляет 37-40, что означает, что при предсказании объёмов нефти в этих регионах средний \"промах\" от истинных объёмов нефти составляет 37-40 бареллей нефти. Разброс большой, такие разбросы могут принести или прибыли на 18-20 миллионов рублей, или наоборот, убыток."
   ]
  },
  {
   "cell_type": "markdown",
   "metadata": {},
   "source": [
    "# 3. <a id=3>Подготовка к расчёту прибыли</a>"
   ]
  },
  {
   "cell_type": "markdown",
   "metadata": {},
   "source": [
    "Сохраним все ключевые значения для расчётов в отдельных переменных:"
   ]
  },
  {
   "cell_type": "code",
   "execution_count": 33,
   "metadata": {},
   "outputs": [],
   "source": [
    "# бюджет на разработку скважин в регионе — 10 млрд рублей.\n",
    "BUDGET = 10*10**9\n",
    "\n",
    "# Доход с каждой единицы продукта 450 тыс. рублей\n",
    "INCOME = 45*10**4\n",
    "\n",
    "# максимальное количество разрабатываемых скважин\n",
    "OIL_WELLS = 200\n",
    "\n",
    "# количество исследуемых точек\n",
    "RESEARCH_PLACES = 500"
   ]
  },
  {
   "cell_type": "markdown",
   "metadata": {},
   "source": [
    "Рассчитаем достаточный объём сырья для безубыточной разработки новой скважины."
   ]
  },
  {
   "cell_type": "code",
   "execution_count": 34,
   "metadata": {},
   "outputs": [
    {
     "name": "stdout",
     "output_type": "stream",
     "text": [
      "Для получения прибыли минимальный запас сырья на месторождении должен быть не меньше чем 111.11 тыс. баррелей нефти.\n"
     ]
    }
   ],
   "source": [
    "min_volume = round(BUDGET/OIL_WELLS/INCOME,2)\n",
    "print(f'Для получения прибыли минимальный запас сырья на месторождении должен быть не меньше чем {min_volume} тыс. баррелей нефти.')"
   ]
  },
  {
   "cell_type": "markdown",
   "metadata": {},
   "source": [
    "Сравним с фактическими запасами нефти в регионах:"
   ]
  },
  {
   "cell_type": "code",
   "execution_count": 35,
   "metadata": {},
   "outputs": [
    {
     "name": "stdout",
     "output_type": "stream",
     "text": [
      "Фактические средние запасы нефти в месторождениях на валидационных выборках\n",
      "в Region_0 92.83\n",
      "в Region_1 69.11\n",
      "в Region_2 95.28\n"
     ]
    }
   ],
   "source": [
    "print('Фактические средние запасы нефти в месторождениях на валидационных выборках')\n",
    "print(f\"в Region_0 {round(region_valid_0['product'].mean(),2)}\")\n",
    "print(f\"в Region_1 {round(region_valid_1['product'].mean(),2)}\")\n",
    "print(f\"в Region_2 {round(region_valid_2['product'].mean(),2)}\")"
   ]
  },
  {
   "cell_type": "markdown",
   "metadata": {},
   "source": [
    "# 4. <a id=4>Расчёт прибыли и рисков</a>"
   ]
  },
  {
   "cell_type": "markdown",
   "metadata": {},
   "source": [
    "Начнём считать прибыль и риски для регионов."
   ]
  },
  {
   "cell_type": "code",
   "execution_count": 36,
   "metadata": {},
   "outputs": [],
   "source": [
    "rs = np.random.RandomState(12345)\n",
    "examples = 1000"
   ]
  },
  {
   "cell_type": "code",
   "execution_count": 37,
   "metadata": {},
   "outputs": [],
   "source": [
    "def bootstrap_income(data):\n",
    "    \"\"\"Функция расчёта прибыли\"\"\"\n",
    "    example = data.sample(n=RESEARCH_PLACES, replace=True, random_state=rs).sort_values(by='predictions', ascending=False).head(200)\n",
    "    return round(example['product'].sum()*INCOME-BUDGET,2)"
   ]
  },
  {
   "cell_type": "code",
   "execution_count": 38,
   "metadata": {},
   "outputs": [],
   "source": [
    "def analyse(data):\n",
    "    \"\"\"Функция анализа средней прибыли, доверительного интервала, риска убытков\"\"\"\n",
    "    incomes = []\n",
    "    risk = 0\n",
    "    for i in range(1000):\n",
    "        incomes.append(bootstrap_income(data))\n",
    "        if incomes[i] < 0:\n",
    "            risk += 1\n",
    "    incomes = pd.Series(incomes)\n",
    "   \n",
    "    # расчёт средней прибыли\n",
    "    incomes_mean = round(incomes.mean(),2)\n",
    "    \n",
    "    # расчёт доверительного интервала\n",
    "    confidence_interval = st.t.interval(0.95, len(incomes)-1, incomes.mean(), incomes.sem())\n",
    "    \n",
    "    # расчёт риска убытков\n",
    "    risk_percent = round(risk/len(incomes)*100,2)\n",
    "    \n",
    "    return incomes_mean, confidence_interval, risk_percent"
   ]
  },
  {
   "cell_type": "code",
   "execution_count": 39,
   "metadata": {},
   "outputs": [
    {
     "name": "stdout",
     "output_type": "stream",
     "text": [
      "Средняя прибыль для региона составит 389105125.7 руб.\n",
      "95%-ый доверительный интервал: (373038967.8727062, 405171283.53263474)\n",
      "Риск убытков составляет 7.1\n"
     ]
    }
   ],
   "source": [
    "income_mean_0, interval_0, risk_0 = analyse(region_valid_0)\n",
    "print(f'Средняя прибыль для региона составит {income_mean_0} руб.')\n",
    "print(f'95%-ый доверительный интервал: {interval_0}')\n",
    "print(f'Риск убытков составляет {risk_0}')"
   ]
  },
  {
   "cell_type": "code",
   "execution_count": 40,
   "metadata": {},
   "outputs": [
    {
     "name": "stdout",
     "output_type": "stream",
     "text": [
      "Средняя прибыль для региона составит 433852765.12 руб.\n",
      "95%-ый доверительный интервал: (421416642.55508924, 446288887.67964983)\n",
      "Риск убытков составляет 1.3\n"
     ]
    }
   ],
   "source": [
    "income_mean_1, interval_1, risk_1 = analyse(region_valid_1)\n",
    "print(f'Средняя прибыль для региона составит {income_mean_1} руб.')\n",
    "print(f'95%-ый доверительный интервал: {interval_1}')\n",
    "print(f'Риск убытков составляет {risk_1}')"
   ]
  },
  {
   "cell_type": "code",
   "execution_count": 41,
   "metadata": {},
   "outputs": [
    {
     "name": "stdout",
     "output_type": "stream",
     "text": [
      "Средняя прибыль для региона составит 367771155.43 руб.\n",
      "95%-ый доверительный интервал: (351616731.95066875, 383925578.9103916)\n",
      "Риск убытков составляет 7.7\n"
     ]
    }
   ],
   "source": [
    "income_mean_2, interval_2, risk_2 = analyse(region_valid_2)\n",
    "print(f'Средняя прибыль для региона составит {income_mean_2} руб.')\n",
    "print(f'95%-ый доверительный интервал: {interval_2}')\n",
    "print(f'Риск убытков составляет {risk_2}')"
   ]
  },
  {
   "cell_type": "markdown",
   "metadata": {},
   "source": [
    "Оценим среднюю прибыль регионов на графиках:"
   ]
  },
  {
   "cell_type": "code",
   "execution_count": 42,
   "metadata": {},
   "outputs": [],
   "source": [
    "regions = ['Регион 1','Регион 2','Регион 3']\n",
    "incomes = [[income_mean_0/1000,income_mean_1/1000,income_mean_2/1000],[risk_0,risk_1,risk_2]]\n",
    "plot_income = pd.DataFrame(data=incomes,columns=regions).T.reset_index(drop=True)\n",
    "plot_income.columns = ['income','risk']"
   ]
  },
  {
   "cell_type": "code",
   "execution_count": 43,
   "metadata": {},
   "outputs": [
    {
     "data": {
      "image/png": "[encoded data removed]",
      "text/plain": [
       "<Figure size 1080x360 with 2 Axes>"
      ]
     },
     "metadata": {
      "needs_background": "light"
     },
     "output_type": "display_data"
    }
   ],
   "source": [
    "fig, (ax1, ax2) = plt.subplots(1,2)\n",
    "\n",
    "ax1.bar(plot_income.index, plot_income['income'])\n",
    "ax1.grid(True)\n",
    "ax1.set(xticks=plot_income.index, xlabel='Регионы', ylabel='Прибыль, тыс.руб.', title='Средняя прибыль по регионам')\n",
    "\n",
    "ax2.bar(plot_income.index, plot_income['risk'])\n",
    "ax2.grid(True)\n",
    "ax2.set(xticks=plot_income.index, xlabel='Регионы', ylabel='Риск убытков, %', title='Риск убытков по регионам')\n",
    "\n",
    "fig.set_figwidth(15)\n",
    "fig.set_figheight(5)\n",
    "plt.show()"
   ]
  },
  {
   "cell_type": "markdown",
   "metadata": {},
   "source": [
    "По графикам видно, что из представленных нам регионов - только один подходит под условия компании «ГлавРосГосНефть». `Region_1` принесёт достаточно высокую прибыль и имеет низкий риск убытков, даже не смотря на то, что средние запасы нефти там ниже, чем в остальных. `Region_0`, `Region_2` принесут прибыль меньше и с большими рисками убытков."
   ]
  }
 ],
 "metadata": {
  "kernelspec": {
   "display_name": "Python 3",
   "language": "python",
   "name": "python3"
  },
  "language_info": {
   "codemirror_mode": {
    "name": "ipython",
    "version": 3
   },
   "file_extension": ".py",
   "mimetype": "text/x-python",
   "name": "python",
   "nbconvert_exporter": "python",
   "pygments_lexer": "ipython3",
   "version": "3.8.3"
  },
  "latex_envs": {
   "LaTeX_envs_menu_present": true,
   "autoclose": false,
   "autocomplete": true,
   "bibliofile": "biblio.bib",
   "cite_by": "apalike",
   "current_citInitial": 1,
   "eqLabelWithNumbers": true,
   "eqNumInitial": 1,
   "hotkeys": {
    "equation": "Ctrl-E",
    "itemize": "Ctrl-I"
   },
   "labels_anchors": false,
   "latex_user_defs": false,
   "report_style_numbering": false,
   "user_envs_cfg": false
  },
  "toc": {
   "base_numbering": 1,
   "nav_menu": {},
   "number_sections": true,
   "sideBar": true,
   "skip_h1_title": false,
   "title_cell": "Table of Contents",
   "title_sidebar": "Contents",
   "toc_cell": false,
   "toc_position": {},
   "toc_section_display": true,
   "toc_window_display": true
  }
 },
 "nbformat": 4,
 "nbformat_minor": 2
}
